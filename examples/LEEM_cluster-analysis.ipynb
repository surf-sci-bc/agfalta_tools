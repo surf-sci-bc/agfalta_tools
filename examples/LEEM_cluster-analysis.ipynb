{
 "cells": [
  {
   "cell_type": "markdown",
   "metadata": {},
   "source": [
    "# Demo for cluster analyzing LEEM stacks"
   ]
  },
  {
   "cell_type": "code",
   "execution_count": 1,
   "metadata": {},
   "outputs": [],
   "source": [
    "import numpy as np\n",
    "import matplotlib.pyplot as plt\n",
    "\n",
    "from agfalta.leem.base import LEEMStack\n",
    "from agfalta.leem.driftnorm import normalize_stack, align_stack\n",
    "import agfalta.leem.cluster as cluster\n",
    "import agfalta.leem.plotting as plotting"
   ]
  },
  {
   "cell_type": "markdown",
   "metadata": {},
   "source": [
    "Normalization and drift correction (if it exists, the corrected stack is loaded directly):"
   ]
  },
  {
   "cell_type": "code",
   "execution_count": 2,
   "metadata": {},
   "outputs": [
    {
     "ename": "FileNotFoundError",
     "evalue": "'media/test_stack_IV_RuO2_normed_aligned.tif' does not exist, cannot be read successfully or contains no *.dat files",
     "output_type": "error",
     "traceback": [
      "\u001b[0;31m---------------------------------------------------------------------------\u001b[0m",
      "\u001b[0;31mFileNotFoundError\u001b[0m                         Traceback (most recent call last)",
      "\u001b[0;32m<ipython-input-2-eb250af7d549>\u001b[0m in \u001b[0;36m<module>\u001b[0;34m\u001b[0m\n\u001b[1;32m      3\u001b[0m \u001b[0;32mif\u001b[0m \u001b[0mload_prealigned\u001b[0m\u001b[0;34m:\u001b[0m\u001b[0;34m\u001b[0m\u001b[0;34m\u001b[0m\u001b[0m\n\u001b[1;32m      4\u001b[0m     \u001b[0;31m# either load a pre-aligned image stack like this (then you need to add the energy vector for non-lstk-stacks)\u001b[0m\u001b[0;34m\u001b[0m\u001b[0;34m\u001b[0m\u001b[0;34m\u001b[0m\u001b[0m\n\u001b[0;32m----> 5\u001b[0;31m     \u001b[0mstack_raw\u001b[0m \u001b[0;34m=\u001b[0m \u001b[0mLEEMStack\u001b[0m\u001b[0;34m(\u001b[0m\u001b[0;34m\"media/test_stack_IV_RuO2_normed_aligned.tif\"\u001b[0m\u001b[0;34m)\u001b[0m\u001b[0;34m\u001b[0m\u001b[0;34m\u001b[0m\u001b[0m\n\u001b[0m\u001b[1;32m      6\u001b[0m     \u001b[0mstack_raw\u001b[0m\u001b[0;34m.\u001b[0m\u001b[0menergy\u001b[0m \u001b[0;34m=\u001b[0m \u001b[0mnp\u001b[0m\u001b[0;34m.\u001b[0m\u001b[0mlinspace\u001b[0m\u001b[0;34m(\u001b[0m\u001b[0;36m3.0\u001b[0m\u001b[0;34m,\u001b[0m \u001b[0;36m50.0\u001b[0m\u001b[0;34m,\u001b[0m \u001b[0mlen\u001b[0m\u001b[0;34m(\u001b[0m\u001b[0mstack_raw\u001b[0m\u001b[0;34m)\u001b[0m\u001b[0;34m)\u001b[0m\u001b[0;34m\u001b[0m\u001b[0;34m\u001b[0m\u001b[0m\n\u001b[1;32m      7\u001b[0m \u001b[0;32melse\u001b[0m\u001b[0;34m:\u001b[0m\u001b[0;34m\u001b[0m\u001b[0;34m\u001b[0m\u001b[0m\n",
      "\u001b[0;32m~/agfalta_tools/agfalta/leem/base.py\u001b[0m in \u001b[0;36m__init__\u001b[0;34m(self, path, virtual, nolazy, time_origin, verbose)\u001b[0m\n\u001b[1;32m    328\u001b[0m                     \u001b[0mself\u001b[0m\u001b[0;34m.\u001b[0m\u001b[0m_virtual\u001b[0m \u001b[0;34m=\u001b[0m \u001b[0;32mFalse\u001b[0m\u001b[0;34m\u001b[0m\u001b[0;34m\u001b[0m\u001b[0m\n\u001b[1;32m    329\u001b[0m                 \u001b[0;32mexcept\u001b[0m \u001b[0;34m(\u001b[0m\u001b[0mAttributeError\u001b[0m\u001b[0;34m,\u001b[0m \u001b[0mValueError\u001b[0m\u001b[0;34m)\u001b[0m\u001b[0;34m:\u001b[0m\u001b[0;34m\u001b[0m\u001b[0;34m\u001b[0m\u001b[0m\n\u001b[0;32m--> 330\u001b[0;31m                     raise FileNotFoundError(\n\u001b[0m\u001b[1;32m    331\u001b[0m                         \u001b[0;34mf\"'{self.path}' does not exist, cannot be read\"\u001b[0m\u001b[0;34m\u001b[0m\u001b[0;34m\u001b[0m\u001b[0m\n\u001b[1;32m    332\u001b[0m                         \" successfully or contains no *.dat files\") from None\n",
      "\u001b[0;31mFileNotFoundError\u001b[0m: 'media/test_stack_IV_RuO2_normed_aligned.tif' does not exist, cannot be read successfully or contains no *.dat files"
     ]
    }
   ],
   "source": [
    "load_prealigned = True\n",
    "\n",
    "if load_prealigned:\n",
    "    # either load a pre-aligned image stack like this (then you need to add the energy vector for non-lstk-stacks)\n",
    "    stack_raw = LEEMStack(\"media/test_stack_IV_RuO2_normed_aligned.tif\")\n",
    "    stack_raw.energy = np.linspace(3.0, 50.0, len(stack_raw))\n",
    "else:\n",
    "    # or you load a raw data set and normalize and align it\n",
    "    stack_raw = LEEMStack(\"test_stack_IV_g-Cu\")\n",
    "\n",
    "    stack_raw = normalize_stack(stack_raw, \"channelplate.dat\", dark_counts=110)\n",
    "    stack_raw = align_stack(stack_raw, mask_outer=0.2, trafo=\"translation\")\n",
    "\n",
    "    plt.plot([m[0, 2] for m in stack.alignment])\n",
    "    plt.plot([m[1, 2] for m in stack.alignment])\n",
    "\n",
    "stack = stack_raw.copy()\n",
    "\n",
    "# you may want to delete some frames:\n",
    "del stack[160]\n",
    "stack = stack[10:]"
   ]
  },
  {
   "cell_type": "markdown",
   "metadata": {},
   "source": [
    "Stack inspection:"
   ]
  },
  {
   "cell_type": "code",
   "execution_count": null,
   "metadata": {},
   "outputs": [],
   "source": [
    "plotting.plot_movie(stack[::50], fields=(None, None, None, None))"
   ]
  },
  {
   "cell_type": "markdown",
   "metadata": {},
   "source": [
    "For the principal component analysis, the stack has to be reshaped first with `stack2vectors()`. This cuts away the outer parts of the images and changes the 3-dimensional stack data into a list of 1-dimensional spectra. The new height and width are needed later for transforming back into images.\n",
    "\n",
    "Then, `pendryfy()` applies the Pendry-R-Factor metric. (The spectra are transformed into the \"Y\" in Pendry's paper)\n",
    "\n",
    "`component_analysis()` does what it says and puts out 2 functions and a model. The functions are used to transform between \"real spectrum space\" and \"principal component space\". The model holds all information of the analysis. It can be saved via `save_model(model, filename)` and loaded via `trafo, inv_trafo, model = load_pca_model(filename)`"
   ]
  },
  {
   "cell_type": "code",
   "execution_count": null,
   "metadata": {},
   "outputs": [],
   "source": [
    "n_components = 7\n",
    "\n",
    "X, h, w = cluster.stack2vectors(stack, mask_outer=0.2) # cut away 20% on every side\n",
    "\n",
    "X = cluster.pendryfy(X, stack.energy)\n",
    "\n",
    "trafo, inv_trafo, model = cluster.component_analysis(X, \"pca\", n_components=n_components)\n",
    "W = trafo(X)"
   ]
  },
  {
   "cell_type": "markdown",
   "metadata": {},
   "source": [
    "The resulting `W`-vectorlist has the same format as `X`, but in \"PCA-space\" and with fewer images. It can be converted into a normal stack and then plotted like this:"
   ]
  },
  {
   "cell_type": "code",
   "execution_count": null,
   "metadata": {},
   "outputs": [],
   "source": [
    "comps = cluster.vectors2stack(W, h, w)\n",
    "plotting.plot_movie(comps, fields=(None, None, None, None))"
   ]
  },
  {
   "cell_type": "markdown",
   "metadata": {},
   "source": [
    "The actual cluster analysis is simple. The `cluster_analysis` function takes different keyword arguments depending on the algorithm and always returns `labels` and a model (can be saved by `save_model(model, filename)` and loaded by `labels, model = load_cluster_model(filename)`).\n",
    "\n",
    "`labels` has the same format as `X`, but only one image that contains integers (the \"cluster number\"). `labels` will be ordered in cluster size, so the smallest cluster has label `0` and the next one `1` and so on."
   ]
  },
  {
   "cell_type": "code",
   "execution_count": null,
   "metadata": {},
   "outputs": [],
   "source": [
    "n_clusters = 8\n",
    "labels, model = cluster.cluster_analysis(W, \"pc-xmeans\", n_clusters=n_clusters, metric=\"euclidean_square\")"
   ]
  },
  {
   "cell_type": "markdown",
   "metadata": {},
   "source": [
    "To plot the results, the initial stack and its mask is needed to extract the correct IV curves. The labels need to be reshaped correctly.\n",
    "\n",
    "Label grouping:\n",
    "\n",
    "* 0: small disordered things and border of 101\n",
    "* 1: 101-island\n",
    "* 2: substrate, 3: substrate border, 4: substrate border and 100\n",
    "* 5: 110 border, 6: 110 parts, 7: 110"
   ]
  },
  {
   "cell_type": "code",
   "execution_count": null,
   "metadata": {},
   "outputs": [],
   "source": [
    "_, axes = plt.subplots(1, 4, figsize=(20, 8))\n",
    "cmap = \"brg\"\n",
    "\n",
    "cluster.plot_clustermap(labels.reshape(h, w), ax=axes[0], cmap=cmap)\n",
    "axes[0].set_title(\"Original clusters\")\n",
    "\n",
    "combined_labels = cluster.combine_labels(labels, [(2, 3), (5, 6, 7)])\n",
    "cluster.plot_clustermap(combined_labels.reshape(h, w), ax=axes[1], cmap=cmap)\n",
    "axes[1].set_title(\"Combined labels\")\n",
    "\n",
    "i = 3\n",
    "single_map = np.zeros_like(labels)\n",
    "single_map[labels == i] = 1\n",
    "cluster.plot_clustermap(single_map.reshape(h, w), ax=axes[2], cmap=cmap)\n",
    "axes[2].set_title(f\"Single cluster: {i}\")\n",
    "\n",
    "plotting.plot_img(stack[80], ax=axes[3])\n",
    "axes[3].set_title(\"Raw image\")\n",
    "\n",
    "cluster.plot_IVs(stack_raw, combined_labels, mask_outer=0.2, cmap=cmap)  # need the mask that was applied before PCA"
   ]
  },
  {
   "cell_type": "code",
   "execution_count": null,
   "metadata": {},
   "outputs": [],
   "source": []
  }
 ],
 "metadata": {
  "kernelspec": {
   "display_name": "Python 3",
   "language": "python",
   "name": "python3"
  },
  "language_info": {
   "codemirror_mode": {
    "name": "ipython",
    "version": 3
   },
   "file_extension": ".py",
   "mimetype": "text/x-python",
   "name": "python",
   "nbconvert_exporter": "python",
   "pygments_lexer": "ipython3",
   "version": "3.8.6"
  }
 },
 "nbformat": 4,
 "nbformat_minor": 4
}
